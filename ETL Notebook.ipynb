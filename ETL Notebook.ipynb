{
 "cells": [
  {
   "cell_type": "code",
   "execution_count": 1,
   "metadata": {},
   "outputs": [],
   "source": [
    "import re\n",
    "import requests\n",
    "import bs4"
   ]
  },
  {
   "cell_type": "code",
   "execution_count": 2,
   "metadata": {},
   "outputs": [],
   "source": [
    "NAME_DICT = {'BEN': \"OBI-WAN\",\n",
    "             'THREEPIO': \"C-3PO\",\n",
    "             'CREATURE': \"YODA\",\n",
    "             'DARTH SlDIOUS': \"DARTH SIDIOUS\",\n",
    "             'PALPATINE': \"DARTH SIDIOUS\",\n",
    "             'EMPEROR': \"DARTH SIDIOUS\",\n",
    "             'FlRESHIP PILOT': \"FIRESHIP PILOT\",\n",
    "             'GlDDEAN DANU': \"GIDDEAN DANU\",\n",
    "             'GiDDEAN DANU': \"GIDDEAN DANU\",\n",
    "             'Kl-ADI-MUNDI': \"KI-ADI-MUNDI\",\n",
    "             'TlON MEDON': \"TION MEDON\",\n",
    "             'MACE WlNDU': \"MACE WINDU\",\n",
    "             'MACE WiNDU': \"MACE WINDU\",\n",
    "             'FANGZAR': \"FANG ZAR\",\n",
    "             'QUI -GON': \"QUI-GON\",\n",
    "             'PADMÉ': \"PADME\",\n",
    "             'CORDÉ': \"CORDE\",\n",
    "             'FODE/BEED': \"FODE & BEED\",\n",
    "             'A': \"FODE\",\n",
    "             'B': \"BEED\"}"
   ]
  },
  {
   "cell_type": "code",
   "execution_count": 3,
   "metadata": {},
   "outputs": [],
   "source": [
    "def read_script(name, encoding=None):\n",
    "    \"\"\"\n",
    "    Given name of the script file, reads it with assigned encoding method and\n",
    "    returns a list of lines in the script with newline char removed.\n",
    "\n",
    "    Inputs:\n",
    "        name (string): name and extension of the script text file\n",
    "        encoding (string): encoding method of the script file, i.e. 'gbk'\n",
    "\n",
    "    Outputs:\n",
    "        (list of strings) of lines in the script with newline char removed\n",
    "    \"\"\"\n",
    "    with open('[Star-Wars-Chat-Bot]data/Scripts/' + name, 'r',\n",
    "              encoding=encoding) as f:\n",
    "        return [line.rstrip(\"\\n\") for line in f.readlines()]"
   ]
  },
  {
   "cell_type": "code",
   "execution_count": 4,
   "metadata": {},
   "outputs": [],
   "source": [
    "def line_type(line, num_spaces):\n",
    "    \"\"\"\n",
    "    Given a line, determines its type rouoghly by counting leading white\n",
    "    spaces. Returns True if it equals to the desired number.\n",
    "\n",
    "    Inputs:\n",
    "        - line (string): a line from the list to check\n",
    "        - num_spaces (int): number of spaces desired\n",
    "\n",
    "    Returns:\n",
    "        (Bool) True if the number of leading white spaces equals to our\n",
    "        desired number\n",
    "    \"\"\"\n",
    "    return len(line) - len(line.lstrip()) == num_spaces"
   ]
  },
  {
   "cell_type": "code",
   "execution_count": 5,
   "metadata": {
    "code_folding": []
   },
   "outputs": [],
   "source": [
    "def clean_name(line, name_party_line=NAME_DICT):\n",
    "    \"\"\"\n",
    "    Given a line containing a name, parses the line and returns the name.\n",
    "\n",
    "    Inputs:\n",
    "        - line (string): a line from the list\n",
    "        - name_party_line (dict): takes care of wrong spellings\n",
    "\n",
    "    Returns:\n",
    "        (string) cleaned name\n",
    "    \"\"\"\n",
    "    name = line.strip()\n",
    "    if (\"'S\") in name:\n",
    "        name = re.search(r\"^[A-Z0-9\\s]+[^']\", name).group().strip()\n",
    "    \n",
    "    if \"(\" in name:\n",
    "        name = re.search(r\"[\\w]+[^(]\", name).group().strip()\n",
    "    name = name_party_line.get(name, name)\n",
    "\n",
    "    name = re.search(r\"^[A-Z0-9&\\s-]+[^a-z#]\", name)\n",
    "    if not name:\n",
    "        return None\n",
    "\n",
    "    return name.group().strip()"
   ]
  },
  {
   "cell_type": "code",
   "execution_count": 6,
   "metadata": {},
   "outputs": [],
   "source": [
    "def write_dialogue(condition, cond_line, write_line, file):\n",
    "    \"\"\"\n",
    "    Given a dialogue line, write it into the tsv file under the assigned\n",
    "    condition.\n",
    "\n",
    "    Inputs:\n",
    "        - condition (a function): evaluates to True or False\n",
    "        - cond_line (string): a line from the script to check the condition\n",
    "        - write_line (string): a line from the script to write\n",
    "        - file (TextIOWrapper): connection to the .tsv file\n",
    "\n",
    "    Returns:\n",
    "        (None)\n",
    "    \"\"\"\n",
    "    if condition(cond_line):\n",
    "        file.write(write_line.strip() + \"\\n\")\n",
    "    else:\n",
    "        file.write(write_line.strip() + \" \")"
   ]
  },
  {
   "cell_type": "code",
   "execution_count": 27,
   "metadata": {},
   "outputs": [],
   "source": [
    "def get_script_from_url(url, file_name, lst_to_replace, encoding=None):\n",
    "    \"\"\"\n",
    "    \"\"\"\n",
    "    page = requests.get(url).text.encode('iso-8859-1')\n",
    "    soup = bs4.BeautifulSoup(page, \"html5lib\")\n",
    "    script = soup.find('td', class_=\"scrtext\").text\n",
    "\n",
    "    if not encoding:\n",
    "        with open('[Star-Wars-Chat-Bot]data/Scripts/' + file_name, 'w') as f:\n",
    "            f.write(script.replace(*lst_to_replace))\n",
    "    else:\n",
    "        with open('[Star-Wars-Chat-Bot]data/Scripts/' + file_name, 'wb') as f:\n",
    "            f.write(script.replace(*lst_to_replace).encode(encoding))"
   ]
  },
  {
   "cell_type": "markdown",
   "metadata": {
    "hidePrompt": true
   },
   "source": [
    "## Star Wars Episode IV: A New Hope"
   ]
  },
  {
   "cell_type": "code",
   "execution_count": 8,
   "metadata": {
    "scrolled": true
   },
   "outputs": [],
   "source": [
    "script = read_script('EpisodeIV_script.txt')\n",
    "f = open('[Star-Wars-Chat-Bot]data/Dialogues/EpisodeIV_dialogues.tsv', 'w')\n",
    "\n",
    "for i in range(50, len(script) - 1):\n",
    "    line, next_line = script[i], script[i + 1]\n",
    "\n",
    "    if line_type(line, 20):\n",
    "        name = clean_name(line, {key: val for key, val in NAME_DICT.items()\n",
    "                                 if key != \"CREATURE\"})\n",
    "        if not name:\n",
    "            continue\n",
    "        f.write(name + '\\t')\n",
    "\n",
    "    elif line_type(line, 10):\n",
    "        write_dialogue(lambda x: not x.strip(), next_line, line, f)\n",
    "\n",
    "f.close()"
   ]
  },
  {
   "cell_type": "markdown",
   "metadata": {},
   "source": [
    "## Star Wars Episode V: The Empire Strikes Back"
   ]
  },
  {
   "cell_type": "code",
   "execution_count": 40,
   "metadata": {},
   "outputs": [],
   "source": [
    "script = read_script('EpisodeV_script.txt')\n",
    "f = open('[Star-Wars-Chat-Bot]data/Dialogues/EpisodeV_dialogues.tsv', 'w')\n",
    "\n",
    "for i in range(60, len(script) - 1):\n",
    "    line, next_line = script[i], script[i + 1]\n",
    "\n",
    "    if \":\" in line:\n",
    "        name, dialogue = line.split(\":\")\n",
    "        if name in [\"INTERIOR\", \"EXTERIOR\"]:\n",
    "            continue\n",
    "\n",
    "        name = clean_name(name, NAME_DICT)\n",
    "        if not name:\n",
    "            continue\n",
    "\n",
    "        dialogue = re.sub(r\"[\\(\\[].*?[\\)\\]]\", \"\", dialogue).strip()\n",
    "        write_dialogue(lambda x: not x.strip(), next_line,\n",
    "                       name + \"\\t\" + dialogue, f)\n",
    "\n",
    "    elif line and line_type(line, 0):\n",
    "        write_dialogue(lambda x: not x.strip() or not line_type(x, 0),\n",
    "                       next_line, line, f)\n",
    "\n",
    "f.close()"
   ]
  },
  {
   "cell_type": "markdown",
   "metadata": {},
   "source": [
    "## Star Wars Episode VI: Return of the Jedi"
   ]
  },
  {
   "cell_type": "code",
   "execution_count": 10,
   "metadata": {},
   "outputs": [],
   "source": [
    "script = read_script('EpisodeVI_script.txt', encoding=None)\n",
    "f = open('[Star-Wars-Chat-Bot]data/Dialogues/EpisodeVI_dialogues.tsv', 'w')\n",
    "\n",
    "for i in range(70, len(script) - 1):\n",
    "    line, next_line = script[i], script[i + 1]\n",
    "\n",
    "    if line_type(line, 30):\n",
    "        name = clean_name(line, NAME_DICT)\n",
    "        if not name or name == \"FADE OUT\":\n",
    "            continue\n",
    "        f.write(name + \"\\t\")\n",
    "\n",
    "    elif line_type(line, 15):\n",
    "        write_dialogue(lambda x: not x.strip(), next_line, line, f)\n",
    "\n",
    "f.close()"
   ]
  },
  {
   "cell_type": "markdown",
   "metadata": {},
   "source": [
    "## Star Wars Episode III: Revenge of the Sith"
   ]
  },
  {
   "cell_type": "code",
   "execution_count": 31,
   "metadata": {},
   "outputs": [],
   "source": [
    "url = \"https://www.imsdb.com/scripts/Star-Wars-Revenge-of-the-Sith.html\"\n",
    "get_script_from_url(url, \"EpisodeIII_script.txt\", [\"\\xa0\", \" \"])"
   ]
  },
  {
   "cell_type": "code",
   "execution_count": 32,
   "metadata": {
    "code_folding": [],
    "scrolled": false
   },
   "outputs": [],
   "source": [
    "script = read_script('EpisodeIII_script.txt')\n",
    "f = open('[Star-Wars-Chat-Bot]data/Dialogues/EpisodeIII_dialogues.tsv', 'w')\n",
    "\n",
    "for line in script:\n",
    "    if (\":\") in line and len(line) == len(line.lstrip()):\n",
    "        name, dialogue = line.split(\":\", 1)\n",
    "        name = clean_name(name, NAME_DICT)\n",
    "        f.write(name.strip() + \"\\t\" +\n",
    "                re.sub(r\"[\\(\\[].*?[\\)\\]]\", \"\", dialogue).strip() + \"\\n\")\n",
    "\n",
    "f.close()"
   ]
  },
  {
   "cell_type": "markdown",
   "metadata": {},
   "source": [
    "## Star Wars Episode II: Attack of the Clones"
   ]
  },
  {
   "cell_type": "code",
   "execution_count": 33,
   "metadata": {},
   "outputs": [],
   "source": [
    "url = \"https://www.imsdb.com/scripts/Star-Wars-Attack-of-the-Clones.html\"\n",
    "get_script_from_url(url, \"EpisodeII_script.txt\", [\"\\t\", \"    \"],\n",
    "                    encoding='utf8')"
   ]
  },
  {
   "cell_type": "code",
   "execution_count": 34,
   "metadata": {},
   "outputs": [],
   "source": [
    "script = read_script('EpisodeII_script.txt', encoding='utf-8')\n",
    "f = open('[Star-Wars-Chat-Bot]data/Dialogues/EpisodeII_dialogues.tsv', 'w',\n",
    "         encoding='utf-8')\n",
    "\n",
    "for i in range(30, len(script) - 1):\n",
    "    line, next_line = script[i], script[i + 1]\n",
    "\n",
    "    if line_type(line, 16) and (\"(\") not in line:\n",
    "        name = clean_name(line, NAME_DICT)\n",
    "        if not name:\n",
    "            continue\n",
    "        f.write(name + \"\\t\")\n",
    "\n",
    "    elif line_type(line, 12):\n",
    "        write_dialogue(lambda x: not x.strip(), next_line, line, f)\n",
    "\n",
    "f.close()"
   ]
  }
 ],
 "metadata": {
  "kernelspec": {
   "display_name": "Python 3",
   "language": "python",
   "name": "python3"
  },
  "language_info": {
   "codemirror_mode": {
    "name": "ipython",
    "version": 3
   },
   "file_extension": ".py",
   "mimetype": "text/x-python",
   "name": "python",
   "nbconvert_exporter": "python",
   "pygments_lexer": "ipython3",
   "version": "3.6.5"
  }
 },
 "nbformat": 4,
 "nbformat_minor": 2
}
