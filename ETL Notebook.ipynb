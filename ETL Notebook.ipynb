{
 "cells": [
  {
   "cell_type": "code",
   "execution_count": 49,
   "metadata": {},
   "outputs": [],
   "source": [
    "import re"
   ]
  },
  {
   "cell_type": "markdown",
   "metadata": {},
   "source": [
    "## Star Wars Episode IV"
   ]
  },
  {
   "cell_type": "code",
   "execution_count": 50,
   "metadata": {},
   "outputs": [],
   "source": [
    "with open('StarWars Scripts/StarWars_EpisodeIV_script.txt', 'r') as f:\n",
    "    script = [line.rstrip(\"\\n\") for line in f.readlines()]"
   ]
  },
  {
   "cell_type": "code",
   "execution_count": 51,
   "metadata": {},
   "outputs": [],
   "source": [
    "NAME_WHITESPACE = 20\n",
    "DIALOGUE_WHITESPACE = 10"
   ]
  },
  {
   "cell_type": "code",
   "execution_count": 52,
   "metadata": {
    "scrolled": true
   },
   "outputs": [],
   "source": [
    "f = open('StarWars Dialogues/StarWars_EpisodeIV_dialogues.txt', 'w')\n",
    "\n",
    "for line in script[50:]:\n",
    "    if len(line) - len(line.lstrip()) == NAME_WHITESPACE:\n",
    "        name = line.strip()\n",
    "        # Take care of e.g. BEN'S VOICE, RED TEN'S VOICE\n",
    "        if (\"'S\") in name:\n",
    "            name = re.search(\"^[A-Z\\s]+[^']\", name).group()\n",
    "        f.write(name + '\\t')\n",
    "\n",
    "    elif len(line) - len(line.lstrip()) == DIALOGUE_WHITESPACE:\n",
    "        if len(line) == len(line.rstrip()):\n",
    "            f.write(line.strip() + '\\n')\n",
    "        else:\n",
    "            f.write(line.lstrip())\n",
    "\n",
    "f.close()"
   ]
  },
  {
   "cell_type": "markdown",
   "metadata": {},
   "source": [
    "## Star Wars Episode V"
   ]
  },
  {
   "cell_type": "code",
   "execution_count": 11,
   "metadata": {},
   "outputs": [],
   "source": [
    "with open('StarWars Scripts/StarWars_EpisodeV_script.txt', 'r') as f:\n",
    "    script = [line.rstrip(\"\\n\") for line in f.readlines()]"
   ]
  },
  {
   "cell_type": "code",
   "execution_count": 21,
   "metadata": {},
   "outputs": [],
   "source": [
    "f = open('StarWars Dialogues/StarWars_EpisodeV_dialogues.txt', 'w')\n",
    "\n",
    "for line in script[60:]:\n",
    "    name = re.search(\"^[A-Z][A-Z'\\s]+[^:]\", line)\n",
    "\n",
    "    if not name or name.group() in [\"INTERIOR\", \"EXTERIOR\"]:\n",
    "        continue\n",
    "    name = name.group()\n",
    "\n",
    "    if (\"'S\") in name:\n",
    "        name = re.search(\"^[A-Z\\s]+[^']\", name).group()\n",
    "\n",
    "    f.write(name + \"\\n\")\n",
    "\n",
    "f.close()"
   ]
  },
  {
   "cell_type": "markdown",
   "metadata": {},
   "source": [
    "## Star Wars Episode VI"
   ]
  },
  {
   "cell_type": "code",
   "execution_count": 55,
   "metadata": {},
   "outputs": [],
   "source": [
    "with open('StarWars Scripts/StarWars_EpisodeVI_script.txt', 'r') as f:\n",
    "    script = [line.rstrip(\"\\n\") for line in f.readlines()]"
   ]
  },
  {
   "cell_type": "code",
   "execution_count": 56,
   "metadata": {},
   "outputs": [],
   "source": [
    "NAME_WHITESPACE = 30\n",
    "DIALOGUE_WHITESPACE = 15"
   ]
  },
  {
   "cell_type": "code",
   "execution_count": 62,
   "metadata": {},
   "outputs": [],
   "source": [
    "f = open('StarWars Dialogues/StarWars_EpisodeVI_dialogues.txt', 'w')\n",
    "\n",
    "for i in range(70, len(script)):\n",
    "    line = script[i]\n",
    "\n",
    "    if len(line) - len(line.lstrip()) == NAME_WHITESPACE:\n",
    "        name = re.search(\"^[A-Z][\\w\\s]+[^(^#]\", line.lstrip())\n",
    "        if not name:\n",
    "            continue\n",
    "        f.write(name.group().strip() + \"\\t\")\n",
    "\n",
    "    elif len(line) - len(line.lstrip()) == DIALOGUE_WHITESPACE:\n",
    "        if not script[i + 1]:\n",
    "            f.write(line.lstrip() + \"\\n\")\n",
    "        else:\n",
    "            f.write(line.lstrip() + \" \")\n",
    "\n",
    "f.close()"
   ]
  }
 ],
 "metadata": {
  "kernelspec": {
   "display_name": "Python 3",
   "language": "python",
   "name": "python3"
  },
  "language_info": {
   "codemirror_mode": {
    "name": "ipython",
    "version": 3
   },
   "file_extension": ".py",
   "mimetype": "text/x-python",
   "name": "python",
   "nbconvert_exporter": "python",
   "pygments_lexer": "ipython3",
   "version": "3.6.5"
  }
 },
 "nbformat": 4,
 "nbformat_minor": 2
}
