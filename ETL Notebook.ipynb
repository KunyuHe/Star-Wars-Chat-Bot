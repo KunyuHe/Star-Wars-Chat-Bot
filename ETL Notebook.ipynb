{
 "cells": [
  {
   "cell_type": "code",
   "execution_count": 185,
   "metadata": {},
   "outputs": [],
   "source": [
    "import re\n",
    "import requests\n",
    "import bs4"
   ]
  },
  {
   "cell_type": "code",
   "execution_count": 186,
   "metadata": {},
   "outputs": [],
   "source": [
    "NAME_DICT = {'BEN': \"OBI-WAN\", 'THREEPIO': \"C-3PO\",\n",
    "             'DARTH SlDIOUS': \"DARTH SIDIOUS\", 'PALPATINE': \"DARTH SIDIOUS\",\n",
    "             'EMPEROR': \"DARTH SIDIOUS\", 'FlRESHIP PILOT': \"FIRESHIP PILOT\",\n",
    "             'GlDDEAN DANU': \"GIDDEAN DANU\", 'GiDDEAN DANU': \"GIDDEAN DANU\",\n",
    "             'Kl-ADI-MUNDI': \"KI-ADI-MUNDI\", 'TlON MEDON': \"TION MEDON\",\n",
    "             'MACE WlNDU': \"MACE WINDU\", 'MACE WiNDU': \"MACE WINDU\",\n",
    "             'FANGZAR': \"FANG ZAR\", \"PADMÉ\": \"PADME\"}"
   ]
  },
  {
   "cell_type": "markdown",
   "metadata": {},
   "source": [
    "## Star Wars Episode IV: A New Hope"
   ]
  },
  {
   "cell_type": "code",
   "execution_count": 187,
   "metadata": {},
   "outputs": [],
   "source": [
    "with open('StarWars Scripts/StarWars_EpisodeIV_script.txt', 'r') as f:\n",
    "    script = [line.rstrip(\"\\n\") for line in f.readlines()]"
   ]
  },
  {
   "cell_type": "code",
   "execution_count": 188,
   "metadata": {},
   "outputs": [],
   "source": [
    "NAME_WHITESPACE = 20\n",
    "DIALOGUE_WHITESPACE = 10"
   ]
  },
  {
   "cell_type": "code",
   "execution_count": 189,
   "metadata": {
    "scrolled": true
   },
   "outputs": [],
   "source": [
    "f = open('StarWars Dialogues/StarWars_EpisodeIV_dialogues.txt', 'w')\n",
    "\n",
    "for line in script[50:]:\n",
    "    if len(line) - len(line.lstrip()) == NAME_WHITESPACE:\n",
    "        name = line.strip()\n",
    "        # Take care of e.g. BEN'S VOICE, RED TEN'S VOICE\n",
    "        if (\"'S\") in name:\n",
    "            name = re.search(\"^[A-Z\\s]+[^']\", name).group()\n",
    "        name = NAME_DICT.get(name, name)\n",
    "        f.write(name + '\\t')\n",
    "\n",
    "    elif len(line) - len(line.lstrip()) == DIALOGUE_WHITESPACE:\n",
    "        if len(line) == len(line.rstrip()):\n",
    "            f.write(line.strip() + '\\n')\n",
    "        else:\n",
    "            f.write(line.lstrip())\n",
    "\n",
    "f.close()"
   ]
  },
  {
   "cell_type": "markdown",
   "metadata": {},
   "source": [
    "## Star Wars Episode V: The Empire Strikes Back"
   ]
  },
  {
   "cell_type": "code",
   "execution_count": 190,
   "metadata": {},
   "outputs": [],
   "source": [
    "with open('StarWars Scripts/StarWars_EpisodeV_script.txt', 'r') as f:\n",
    "    script = [line.rstrip(\"\\n\") for line in f.readlines()]"
   ]
  },
  {
   "cell_type": "code",
   "execution_count": 191,
   "metadata": {},
   "outputs": [],
   "source": [
    "f = open('StarWars Dialogues/StarWars_EpisodeV_dialogues.txt', 'w')\n",
    "\n",
    "for i in range(60, len(script) - 1):\n",
    "    line = script[i]\n",
    "    next_line = script[i + 1]\n",
    "    \n",
    "    if (\":\") in line:\n",
    "        name, dialogue = line.split(\":\")\n",
    "        if name in [\"INTERIOR\", \"EXTERIOR\"]:\n",
    "            continue\n",
    "        if (\"'S\") in name:\n",
    "            name = re.search(\"^[A-Z\\s]+[^']\", name).group()\n",
    "        name = name.strip()\n",
    "        name = NAME_DICT.get(name, name)\n",
    "        if not next_line:\n",
    "            f.write(name + \"\\t\" + re.sub(\"[\\(\\[].*?[\\)\\]]\", \"\", dialogue).strip() + \"\\n\")\n",
    "        else:\n",
    "            f.write(name + \"\\t\" + re.sub(\"[\\(\\[].*?[\\)\\]]\", \"\", dialogue).strip() + \" \")\n",
    "    \n",
    "    elif line and len(line) == len(line.lstrip()):\n",
    "        if not next_line or len(next_line) != len(next_line.lstrip()):\n",
    "            f.write(line + \"\\n\")\n",
    "        else:\n",
    "            f.write(line + \" \")\n",
    "\n",
    "f.close()"
   ]
  },
  {
   "cell_type": "markdown",
   "metadata": {},
   "source": [
    "## Star Wars Episode VI: Return of the Jedi"
   ]
  },
  {
   "cell_type": "code",
   "execution_count": 192,
   "metadata": {},
   "outputs": [],
   "source": [
    "with open('StarWars Scripts/StarWars_EpisodeVI_script.txt', 'r') as f:\n",
    "    script = [line.rstrip(\"\\n\") for line in f.readlines()]"
   ]
  },
  {
   "cell_type": "code",
   "execution_count": 193,
   "metadata": {},
   "outputs": [],
   "source": [
    "NAME_WHITESPACE = 30\n",
    "DIALOGUE_WHITESPACE = 15"
   ]
  },
  {
   "cell_type": "code",
   "execution_count": 194,
   "metadata": {},
   "outputs": [],
   "source": [
    "f = open('StarWars Dialogues/StarWars_EpisodeVI_dialogues.txt', 'w')\n",
    "\n",
    "for i in range(70, len(script) - 1):\n",
    "    line = script[i]\n",
    "\n",
    "    if len(line) - len(line.lstrip()) == NAME_WHITESPACE:\n",
    "        name = re.search(\"^[A-Z][\\w\\s]+[^\\(#]\", line.lstrip())\n",
    "        if not name:\n",
    "            continue\n",
    "        name = name.group().strip()\n",
    "        name = NAME_DICT.get(name, name)\n",
    "        f.write(name + \"\\t\")\n",
    "\n",
    "    elif len(line) - len(line.lstrip()) == DIALOGUE_WHITESPACE:\n",
    "        if not script[i + 1]:\n",
    "            f.write(line.lstrip() + \"\\n\")\n",
    "        else:\n",
    "            f.write(line.lstrip() + \" \")\n",
    "\n",
    "f.close()"
   ]
  },
  {
   "cell_type": "markdown",
   "metadata": {},
   "source": [
    "## Star Wars Episode III: Revenge of the Sith"
   ]
  },
  {
   "cell_type": "code",
   "execution_count": 205,
   "metadata": {},
   "outputs": [],
   "source": [
    "url = \"https://www.imsdb.com/scripts/Star-Wars-Revenge-of-the-Sith.html\"\n",
    "request = requests.get(url)\n",
    "text = request.text.encode('iso-8859-1')\n",
    "soup = bs4.BeautifulSoup(text, \"html5lib\")\n",
    "text = soup.find('td', class_ = \"scrtext\").text\n",
    "\n",
    "with open('StarWars Scripts/StarWars_EpisodeIII_script.txt', 'w') as f:\n",
    "    f.write(text.replace(\"\\xa0\", \" \"))"
   ]
  },
  {
   "cell_type": "code",
   "execution_count": 206,
   "metadata": {},
   "outputs": [],
   "source": [
    "with open('StarWars Scripts/StarWars_EpisodeIII_script.txt', 'r') as f:\n",
    "    script = [line.rstrip(\"\\n\") for line in f.readlines()]"
   ]
  },
  {
   "cell_type": "code",
   "execution_count": 207,
   "metadata": {
    "code_folding": [],
    "scrolled": false
   },
   "outputs": [],
   "source": [
    "f = open('StarWars Dialogues/StarWars_EpisodeIII_dialogues.txt', 'w')\n",
    "\n",
    "for line in script:\n",
    "    if (\":\") in line and len(line) == len(line.lstrip()):\n",
    "        name, dialogue = line.split(\":\", 1)\n",
    "        name = NAME_DICT.get(name, name)\n",
    "        name = re.search(\"^[A-Z0-9\\s-]+[^a-z]\", name).group()\n",
    "        f.write(name.strip() + \"\\t\" + re.sub(\"[\\(\\[].*?[\\)\\]]\", \"\", dialogue).strip() + \"\\n\")\n",
    "\n",
    "f.close()"
   ]
  },
  {
   "cell_type": "markdown",
   "metadata": {},
   "source": [
    "## Star Wars Episode II: Attack of the Clones"
   ]
  },
  {
   "cell_type": "code",
   "execution_count": 208,
   "metadata": {},
   "outputs": [],
   "source": [
    "url = \"https://www.imsdb.com/scripts/Star-Wars-Attack-of-the-Clones.html\"\n",
    "request = requests.get(url)\n",
    "text = request.text.encode('iso-8859-1')\n",
    "soup = bs4.BeautifulSoup(text, \"html5lib\")\n",
    "text = soup.find('td', class_ = \"scrtext\").text\n",
    "\n",
    "with open('StarWars Scripts/StarWars_EpisodeII_script.txt', 'wb') as f:\n",
    "    f.write(text.replace(\"\\t\", \"    \").encode('utf8'))"
   ]
  },
  {
   "cell_type": "code",
   "execution_count": 209,
   "metadata": {},
   "outputs": [],
   "source": [
    "with open('StarWars Scripts/StarWars_EpisodeII_script.txt', 'r', encoding='utf-8') as f:\n",
    "    script = [line.rstrip(\"\\n\") for line in f.readlines()]"
   ]
  },
  {
   "cell_type": "code",
   "execution_count": 210,
   "metadata": {},
   "outputs": [],
   "source": [
    "NAME_WHITESPACE = 16\n",
    "DIALOGUE_WHITESPACE = 12"
   ]
  },
  {
   "cell_type": "code",
   "execution_count": 211,
   "metadata": {},
   "outputs": [],
   "source": [
    "f = open('StarWars Dialogues/StarWars_EpisodeII_dialogues.txt', 'w', encoding='utf-8')\n",
    "\n",
    "for i in range(30, len(script) - 1):\n",
    "    line = script[i]\n",
    "    next_line = script[i + 1]\n",
    "\n",
    "    if len(line) - len(line.lstrip()) == NAME_WHITESPACE and (\"(\") not in line:\n",
    "        name = line.strip()\n",
    "        name = NAME_DICT.get(name, name)\n",
    "        f.write(name + \"\\t\")\n",
    "\n",
    "    elif len(line) - len(line.lstrip()) == DIALOGUE_WHITESPACE:\n",
    "        if not next_line:\n",
    "            f.write(line.lstrip() + \"\\n\")\n",
    "        else:\n",
    "            f.write(line.lstrip() + \" \")\n",
    "\n",
    "f.close()"
   ]
  },
  {
   "cell_type": "code",
   "execution_count": null,
   "metadata": {},
   "outputs": [],
   "source": []
  }
 ],
 "metadata": {
  "kernelspec": {
   "display_name": "Python 3",
   "language": "python",
   "name": "python3"
  },
  "language_info": {
   "codemirror_mode": {
    "name": "ipython",
    "version": 3
   },
   "file_extension": ".py",
   "mimetype": "text/x-python",
   "name": "python",
   "nbconvert_exporter": "python",
   "pygments_lexer": "ipython3",
   "version": "3.6.5"
  }
 },
 "nbformat": 4,
 "nbformat_minor": 2
}
