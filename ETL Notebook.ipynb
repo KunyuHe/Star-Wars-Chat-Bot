{
 "cells": [
  {
   "cell_type": "code",
   "execution_count": 109,
   "metadata": {},
   "outputs": [],
   "source": [
    "import re\n",
    "import requests\n",
    "import bs4"
   ]
  },
  {
   "cell_type": "code",
   "execution_count": 199,
   "metadata": {},
   "outputs": [],
   "source": [
    "NAME_DICT = {'BEN': \"OBI-WAN\",\n",
    "             'THREEPIO': \"C-3PO\",\n",
    "             'CREATURE': \"YODA\",\n",
    "             'DARTH SlDIOUS': \"DARTH SIDIOUS\",\n",
    "             'PALPATINE': \"DARTH SIDIOUS\",\n",
    "             'EMPEROR': \"DARTH SIDIOUS\",\n",
    "             'FlRESHIP PILOT': \"FIRESHIP PILOT\",\n",
    "             'GlDDEAN DANU': \"GIDDEAN DANU\",\n",
    "             'GiDDEAN DANU': \"GIDDEAN DANU\",\n",
    "             'Kl-ADI-MUNDI': \"KI-ADI-MUNDI\",\n",
    "             'TlON MEDON': \"TION MEDON\",\n",
    "             'MACE WlNDU': \"MACE WINDU\",\n",
    "             'MACE WiNDU': \"MACE WINDU\",\n",
    "             'FANGZAR': \"FANG ZAR\",\n",
    "             'QUI -GON': \"QUI-GON\",\n",
    "             'PADMÉ': \"PADME\",\n",
    "             'CORDÉ': \"CORDE\"}"
   ]
  },
  {
   "cell_type": "code",
   "execution_count": 200,
   "metadata": {},
   "outputs": [],
   "source": [
    "def line_type(line, num_spaces):\n",
    "    \"\"\"\n",
    "    Given a line, determines its type rouoghly by counting leading white\n",
    "    spaces. Returns True if it equals to the desired number.\n",
    "\n",
    "    Inputs:\n",
    "        - line (string): a line from the list to check\n",
    "        - num_spaces (int): number of spaces desired\n",
    "\n",
    "    Returns:\n",
    "        (Bool) True if the number of leading white spaces equals to our\n",
    "        desired number\n",
    "    \"\"\"\n",
    "    return len(line) - len(line.lstrip()) == num_spaces"
   ]
  },
  {
   "cell_type": "code",
   "execution_count": 201,
   "metadata": {},
   "outputs": [],
   "source": [
    "def clean_name(line, name_party_line=NAME_DICT):\n",
    "    \"\"\"\n",
    "    Given a line containing a name, parses the line and returns the name.\n",
    "\n",
    "    Inputs:\n",
    "        - line (string): a line from the list\n",
    "        - name_party_line (dict): takes care of wrong spellings\n",
    "\n",
    "    Returns:\n",
    "        (string) cleaned name\n",
    "    \"\"\"\n",
    "    name = line.lstrip()\n",
    "    if (\"'S\") in name:\n",
    "        name = re.search(r\"^[A-Z0-9\\s]+[^']\", name).group().strip()\n",
    "\n",
    "    name = name_party_line.get(name, name)\n",
    "\n",
    "    name = re.search(r\"^[A-Z0-9\\s-]+[^a-z]\", name)\n",
    "    if not name:\n",
    "        return None\n",
    "\n",
    "    return re.sub(r\"[\\(\\[].*?[\\)\\]]\", \"\", name.group()).strip()"
   ]
  },
  {
   "cell_type": "markdown",
   "metadata": {
    "hidePrompt": true
   },
   "source": [
    "## Star Wars Episode IV: A New Hope"
   ]
  },
  {
   "cell_type": "code",
   "execution_count": 202,
   "metadata": {},
   "outputs": [],
   "source": [
    "with open('StarWars Scripts/StarWars_EpisodeIV_script.txt', 'r') as f:\n",
    "    script = [line.rstrip(\"\\n\") for line in f.readlines()]"
   ]
  },
  {
   "cell_type": "code",
   "execution_count": 203,
   "metadata": {},
   "outputs": [],
   "source": [
    "NAME_WHITESPACE = 20\n",
    "DIALOGUE_WHITESPACE = 10"
   ]
  },
  {
   "cell_type": "code",
   "execution_count": 204,
   "metadata": {
    "scrolled": true
   },
   "outputs": [
    {
     "ename": "ValueError",
     "evalue": "too many values to unpack (expected 2)",
     "output_type": "error",
     "traceback": [
      "\u001b[1;31m---------------------------------------------------------------------------\u001b[0m",
      "\u001b[1;31mValueError\u001b[0m                                Traceback (most recent call last)",
      "\u001b[1;32m<ipython-input-204-7fa56c19cf60>\u001b[0m in \u001b[0;36m<module>\u001b[1;34m()\u001b[0m\n\u001b[0;32m      3\u001b[0m \u001b[1;32mfor\u001b[0m \u001b[0mline\u001b[0m \u001b[1;32min\u001b[0m \u001b[0mscript\u001b[0m\u001b[1;33m[\u001b[0m\u001b[1;36m50\u001b[0m\u001b[1;33m:\u001b[0m\u001b[1;33m]\u001b[0m\u001b[1;33m:\u001b[0m\u001b[1;33m\u001b[0m\u001b[0m\n\u001b[0;32m      4\u001b[0m     \u001b[1;32mif\u001b[0m \u001b[0mline_type\u001b[0m\u001b[1;33m(\u001b[0m\u001b[0mline\u001b[0m\u001b[1;33m,\u001b[0m \u001b[0mNAME_WHITESPACE\u001b[0m\u001b[1;33m)\u001b[0m\u001b[1;33m:\u001b[0m\u001b[1;33m\u001b[0m\u001b[0m\n\u001b[1;32m----> 5\u001b[1;33m         name = clean_name(line, {key: val for key, val in NAME_DICT\n\u001b[0m\u001b[0;32m      6\u001b[0m                                  if key != \"CREATURE\"})\n\u001b[0;32m      7\u001b[0m         \u001b[1;32mif\u001b[0m \u001b[0mname\u001b[0m\u001b[1;33m:\u001b[0m\u001b[1;33m\u001b[0m\u001b[0m\n",
      "\u001b[1;32m<ipython-input-204-7fa56c19cf60>\u001b[0m in \u001b[0;36m<dictcomp>\u001b[1;34m(.0)\u001b[0m\n\u001b[0;32m      3\u001b[0m \u001b[1;32mfor\u001b[0m \u001b[0mline\u001b[0m \u001b[1;32min\u001b[0m \u001b[0mscript\u001b[0m\u001b[1;33m[\u001b[0m\u001b[1;36m50\u001b[0m\u001b[1;33m:\u001b[0m\u001b[1;33m]\u001b[0m\u001b[1;33m:\u001b[0m\u001b[1;33m\u001b[0m\u001b[0m\n\u001b[0;32m      4\u001b[0m     \u001b[1;32mif\u001b[0m \u001b[0mline_type\u001b[0m\u001b[1;33m(\u001b[0m\u001b[0mline\u001b[0m\u001b[1;33m,\u001b[0m \u001b[0mNAME_WHITESPACE\u001b[0m\u001b[1;33m)\u001b[0m\u001b[1;33m:\u001b[0m\u001b[1;33m\u001b[0m\u001b[0m\n\u001b[1;32m----> 5\u001b[1;33m         name = clean_name(line, {key: val for key, val in NAME_DICT\n\u001b[0m\u001b[0;32m      6\u001b[0m                                  if key != \"CREATURE\"})\n\u001b[0;32m      7\u001b[0m         \u001b[1;32mif\u001b[0m \u001b[0mname\u001b[0m\u001b[1;33m:\u001b[0m\u001b[1;33m\u001b[0m\u001b[0m\n",
      "\u001b[1;31mValueError\u001b[0m: too many values to unpack (expected 2)"
     ]
    }
   ],
   "source": [
    "f = open('StarWars Dialogues/StarWars_EpisodeIV_dialogues.tsv', 'w')\n",
    "\n",
    "for line in script[50:]:\n",
    "    if line_type(line, NAME_WHITESPACE):\n",
    "        name = clean_name(line, {key: val for key, val in NAME_DICT\n",
    "                                 if key != \"CREATURE\"})\n",
    "        if name:\n",
    "            f.write(name + '\\t')\n",
    "\n",
    "    elif line_type(line, DIALOGUE_WHITESPACE):\n",
    "        if len(line) == len(line.rstrip()):\n",
    "            f.write(line.strip() + '\\n')\n",
    "        else:\n",
    "            f.write(line.lstrip())\n",
    "\n",
    "f.close()"
   ]
  },
  {
   "cell_type": "markdown",
   "metadata": {},
   "source": [
    "## Star Wars Episode V: The Empire Strikes Back"
   ]
  },
  {
   "cell_type": "code",
   "execution_count": 188,
   "metadata": {},
   "outputs": [],
   "source": [
    "with open('StarWars Scripts/StarWars_EpisodeV_script.txt', 'r') as f:\n",
    "    script = [line.rstrip(\"\\n\") for line in f.readlines()]"
   ]
  },
  {
   "cell_type": "code",
   "execution_count": 189,
   "metadata": {},
   "outputs": [],
   "source": [
    "f = open('StarWars Dialogues/StarWars_EpisodeV_dialogues.tsv', 'w')\n",
    "\n",
    "for i in range(60, len(script) - 1):\n",
    "    line = script[i]\n",
    "    next_line = script[i + 1]\n",
    "    \n",
    "    if (\":\") in line:\n",
    "        name, dialogue = line.split(\":\")\n",
    "        if name in [\"INTERIOR\", \"EXTERIOR\"]:\n",
    "            continue\n",
    "\n",
    "        name = clean_name(name, NAME_DICT)\n",
    "        if name:\n",
    "            dialogue = re.sub(\"[\\(\\[].*?[\\)\\]]\", \"\", dialogue).strip()\n",
    "            if not next_line:\n",
    "                f.write(name + \"\\t\" + dialogue + \"\\n\")\n",
    "            else:\n",
    "                f.write(name + \"\\t\" + dialogue + \" \")\n",
    "    \n",
    "    elif line and len(line) == len(line.lstrip()):\n",
    "        if not next_line or len(next_line) != len(next_line.lstrip()):\n",
    "            f.write(line + \"\\n\")\n",
    "        else:\n",
    "            f.write(line + \" \")\n",
    "\n",
    "f.close()"
   ]
  },
  {
   "cell_type": "markdown",
   "metadata": {},
   "source": [
    "## Star Wars Episode VI: Return of the Jedi"
   ]
  },
  {
   "cell_type": "code",
   "execution_count": 24,
   "metadata": {},
   "outputs": [],
   "source": [
    "with open('StarWars Scripts/StarWars_EpisodeVI_script.txt', 'r') as f:\n",
    "    script = [line.rstrip(\"\\n\") for line in f.readlines()]"
   ]
  },
  {
   "cell_type": "code",
   "execution_count": 25,
   "metadata": {},
   "outputs": [],
   "source": [
    "NAME_WHITESPACE = 30\n",
    "DIALOGUE_WHITESPACE = 15"
   ]
  },
  {
   "cell_type": "code",
   "execution_count": 190,
   "metadata": {},
   "outputs": [],
   "source": [
    "f = open('StarWars Dialogues/StarWars_EpisodeVI_dialogues.txt', 'w')\n",
    "\n",
    "for i in range(70, len(script) - 1):\n",
    "    line = script[i]\n",
    "\n",
    "    if line_type(line, NAME_WHITESPACE):\n",
    "        name = clean_name(line, NAME_DICT)\n",
    "        f.write(name + \"\\t\")\n",
    "\n",
    "    elif line_type(line, DIALOGUE_WHITESPACE):\n",
    "        if not script[i + 1]:\n",
    "            f.write(line.lstrip() + \"\\n\")\n",
    "        else:\n",
    "            f.write(line.lstrip() + \" \")\n",
    "\n",
    "f.close()"
   ]
  },
  {
   "cell_type": "markdown",
   "metadata": {},
   "source": [
    "## Star Wars Episode III: Revenge of the Sith"
   ]
  },
  {
   "cell_type": "code",
   "execution_count": 27,
   "metadata": {},
   "outputs": [],
   "source": [
    "url = \"https://www.imsdb.com/scripts/Star-Wars-Revenge-of-the-Sith.html\"\n",
    "request = requests.get(url)\n",
    "text = request.text.encode('iso-8859-1')\n",
    "soup = bs4.BeautifulSoup(text, \"html5lib\")\n",
    "text = soup.find('td', class_ = \"scrtext\").text\n",
    "\n",
    "with open('StarWars Scripts/StarWars_EpisodeIII_script.txt', 'w') as f:\n",
    "    f.write(text.replace(\"\\xa0\", \" \"))"
   ]
  },
  {
   "cell_type": "code",
   "execution_count": 28,
   "metadata": {},
   "outputs": [],
   "source": [
    "with open('StarWars Scripts/StarWars_EpisodeIII_script.txt', 'r') as f:\n",
    "    script = [line.rstrip(\"\\n\") for line in f.readlines()]"
   ]
  },
  {
   "cell_type": "code",
   "execution_count": 29,
   "metadata": {
    "code_folding": [],
    "scrolled": false
   },
   "outputs": [],
   "source": [
    "f = open('StarWars Dialogues/StarWars_EpisodeIII_dialogues.txt', 'w')\n",
    "\n",
    "for line in script:\n",
    "    if (\":\") in line and len(line) == len(line.lstrip()):\n",
    "        name, dialogue = line.split(\":\", 1)\n",
    "        name = NAME_DICT.get(name, name)\n",
    "        name = re.search(\"^[A-Z0-9\\s-]+[^a-z]\", name).group()\n",
    "        f.write(name.strip() + \"\\t\" + re.sub(\"[\\(\\[].*?[\\)\\]]\", \"\", dialogue).strip() + \"\\n\")\n",
    "\n",
    "f.close()"
   ]
  },
  {
   "cell_type": "markdown",
   "metadata": {},
   "source": [
    "## Star Wars Episode II: Attack of the Clones"
   ]
  },
  {
   "cell_type": "code",
   "execution_count": 30,
   "metadata": {},
   "outputs": [],
   "source": [
    "url = \"https://www.imsdb.com/scripts/Star-Wars-Attack-of-the-Clones.html\"\n",
    "request = requests.get(url)\n",
    "text = request.text.encode('iso-8859-1')\n",
    "soup = bs4.BeautifulSoup(text, \"html5lib\")\n",
    "text = soup.find('td', class_ = \"scrtext\").text\n",
    "\n",
    "with open('StarWars Scripts/StarWars_EpisodeII_script.txt', 'wb') as f:\n",
    "    f.write(text.replace(\"\\t\", \"    \").encode('utf8'))"
   ]
  },
  {
   "cell_type": "code",
   "execution_count": 31,
   "metadata": {},
   "outputs": [],
   "source": [
    "with open('StarWars Scripts/StarWars_EpisodeII_script.txt', 'r', encoding='utf-8') as f:\n",
    "    script = [line.rstrip(\"\\n\") for line in f.readlines()]"
   ]
  },
  {
   "cell_type": "code",
   "execution_count": 32,
   "metadata": {},
   "outputs": [],
   "source": [
    "NAME_WHITESPACE = 16\n",
    "DIALOGUE_WHITESPACE = 12"
   ]
  },
  {
   "cell_type": "code",
   "execution_count": 33,
   "metadata": {},
   "outputs": [],
   "source": [
    "f = open('StarWars Dialogues/StarWars_EpisodeII_dialogues.txt', 'w', encoding='utf-8')\n",
    "\n",
    "for i in range(30, len(script) - 1):\n",
    "    line = script[i]\n",
    "    next_line = script[i + 1]\n",
    "\n",
    "    if len(line) - len(line.lstrip()) == NAME_WHITESPACE and (\"(\") not in line:\n",
    "        name = line.strip()\n",
    "        name = NAME_DICT.get(name, name)\n",
    "        f.write(name + \"\\t\")\n",
    "\n",
    "    elif len(line) - len(line.lstrip()) == DIALOGUE_WHITESPACE:\n",
    "        if not next_line:\n",
    "            f.write(line.lstrip() + \"\\n\")\n",
    "        else:\n",
    "            f.write(line.lstrip() + \" \")\n",
    "\n",
    "f.close()"
   ]
  },
  {
   "cell_type": "markdown",
   "metadata": {},
   "source": [
    "## Star Wars Episode I: The Phantom Menace"
   ]
  },
  {
   "cell_type": "code",
   "execution_count": 66,
   "metadata": {},
   "outputs": [],
   "source": [
    "url = \"https://www.imsdb.com/scripts/Star-Wars-The-Phantom-Menace.html\"\n",
    "request = requests.get(url)\n",
    "text = request.text.encode('iso-8859-1')\n",
    "soup = bs4.BeautifulSoup(text, \"html5lib\")\n",
    "text = soup.find('td', class_ = \"scrtext\").text\n",
    "\n",
    "with open('StarWars Scripts/StarWars_EpisodeI_script.txt', 'w') as f:\n",
    "    f.write(text.replace(\"\\xa0\", \" \"))"
   ]
  },
  {
   "cell_type": "code",
   "execution_count": 67,
   "metadata": {},
   "outputs": [],
   "source": [
    "with open('StarWars Scripts/StarWars_EpisodeI_script.txt', 'r', encoding='utf-8') as f:\n",
    "    script = [line.rstrip(\"\\n\") for line in f.readlines()]"
   ]
  },
  {
   "cell_type": "code",
   "execution_count": 68,
   "metadata": {},
   "outputs": [],
   "source": [
    "f = open('StarWars Dialogues/StarWars_EpisodeI_dialogues.txt', 'w')\n",
    "\n",
    "for line in script[30:]:\n",
    "    if all([(\":\") in line, re.search(\"^[A-Z]+\", line),\n",
    "            len(line) == len(line.lstrip())]):\n",
    "        name, dialogue = line.split(\":\", 1)\n",
    "        name = NAME_DICT.get(name.strip(), name.strip())\n",
    "        if name in (\"A\", \"B\", \"FODE/BEED\", \"(O.S) A\"):\n",
    "            continue\n",
    "        name = re.search(\"^[A-Z0-9\\s-]+[^a-z]\", name).group()\n",
    "        f.write(name.strip() + \"\\t\" + re.sub(\"[\\(\\[].*?[\\)\\]]\", \"\", dialogue).strip() + \"\\n\")\n",
    "\n",
    "f.close()"
   ]
  },
  {
   "cell_type": "code",
   "execution_count": null,
   "metadata": {},
   "outputs": [],
   "source": []
  }
 ],
 "metadata": {
  "kernelspec": {
   "display_name": "Python 3",
   "language": "python",
   "name": "python3"
  },
  "language_info": {
   "codemirror_mode": {
    "name": "ipython",
    "version": 3
   },
   "file_extension": ".py",
   "mimetype": "text/x-python",
   "name": "python",
   "nbconvert_exporter": "python",
   "pygments_lexer": "ipython3",
   "version": "3.6.5"
  }
 },
 "nbformat": 4,
 "nbformat_minor": 2
}
